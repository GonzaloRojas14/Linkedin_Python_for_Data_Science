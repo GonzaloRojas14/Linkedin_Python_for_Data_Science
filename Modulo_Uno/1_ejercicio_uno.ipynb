{
 "cells": [
  {
   "cell_type": "code",
   "execution_count": 1,
   "id": "2bbc09f3-b15a-4a7e-b1ca-605589bf6134",
   "metadata": {},
   "outputs": [],
   "source": [
    "import pandas as pd"
   ]
  },
  {
   "cell_type": "code",
   "execution_count": 21,
   "id": "92fc1815-33ff-4283-9371-4f413177b25d",
   "metadata": {},
   "outputs": [],
   "source": [
    "df = pd.read_csv('D:/Descargas/empleados.csv', delimiter = \";\") # Esta linea carga al df (DataFrame) el archivo .csv y lo delimita mediante los ';'.\n",
    "# Se debe cambiar la ruta especificada."
   ]
  },
  {
   "cell_type": "code",
   "execution_count": 15,
   "id": "bbe960ae-6ffc-4a15-b28f-fb707e1c394e",
   "metadata": {},
   "outputs": [],
   "source": [
    "pd.set_option('display.max_columns', None) # Estos ajusten sacan los limites de la muestra de los datos tanto de las rows como de las columnas\n",
    "pd.set_option('display.max_rows', None)    # Para que el DataFrame se muestre sin truncamiento."
   ]
  },
  {
   "cell_type": "code",
   "execution_count": 17,
   "id": "fa7f6e1f-3542-468e-98c2-d4501767f0fb",
   "metadata": {},
   "outputs": [
    {
     "data": {
      "text/html": [
       "<div>\n",
       "<style scoped>\n",
       "    .dataframe tbody tr th:only-of-type {\n",
       "        vertical-align: middle;\n",
       "    }\n",
       "\n",
       "    .dataframe tbody tr th {\n",
       "        vertical-align: top;\n",
       "    }\n",
       "\n",
       "    .dataframe thead th {\n",
       "        text-align: right;\n",
       "    }\n",
       "</style>\n",
       "<table border=\"1\" class=\"dataframe\">\n",
       "  <thead>\n",
       "    <tr style=\"text-align: right;\">\n",
       "      <th></th>\n",
       "      <th>Nombre</th>\n",
       "      <th>Apellido</th>\n",
       "      <th>Sexo</th>\n",
       "      <th>Estado_Civil</th>\n",
       "      <th>Edad</th>\n",
       "      <th>Experiencia</th>\n",
       "      <th>Salario</th>\n",
       "      <th>Gerencia</th>\n",
       "      <th>Departamento</th>\n",
       "    </tr>\n",
       "  </thead>\n",
       "  <tbody>\n",
       "    <tr>\n",
       "      <th>0</th>\n",
       "      <td>Alexandro</td>\n",
       "      <td>NaN</td>\n",
       "      <td>Masculino</td>\n",
       "      <td>Soltero(a)</td>\n",
       "      <td>22.0</td>\n",
       "      <td>3.0</td>\n",
       "      <td>2423.0</td>\n",
       "      <td>No</td>\n",
       "      <td>Publicidad</td>\n",
       "    </tr>\n",
       "    <tr>\n",
       "      <th>1</th>\n",
       "      <td>Carlos</td>\n",
       "      <td>NaN</td>\n",
       "      <td>Masculino</td>\n",
       "      <td>Casado(a)</td>\n",
       "      <td>38.0</td>\n",
       "      <td>10.0</td>\n",
       "      <td>3132.0</td>\n",
       "      <td>Sí</td>\n",
       "      <td>NaN</td>\n",
       "    </tr>\n",
       "    <tr>\n",
       "      <th>2</th>\n",
       "      <td>Felipa</td>\n",
       "      <td>NaN</td>\n",
       "      <td>Femenino</td>\n",
       "      <td>Soltero(a)</td>\n",
       "      <td>26.0</td>\n",
       "      <td>5.0</td>\n",
       "      <td>2639.0</td>\n",
       "      <td>No</td>\n",
       "      <td>Comercial</td>\n",
       "    </tr>\n",
       "    <tr>\n",
       "      <th>3</th>\n",
       "      <td>Daniel</td>\n",
       "      <td>NaN</td>\n",
       "      <td>Masculino</td>\n",
       "      <td>Casado(a)</td>\n",
       "      <td>35.0</td>\n",
       "      <td>10.0</td>\n",
       "      <td>3122.0</td>\n",
       "      <td>No</td>\n",
       "      <td>Comercial</td>\n",
       "    </tr>\n",
       "    <tr>\n",
       "      <th>4</th>\n",
       "      <td>John</td>\n",
       "      <td>NaN</td>\n",
       "      <td>Masculino</td>\n",
       "      <td>Casado(a)</td>\n",
       "      <td>35.0</td>\n",
       "      <td>13.0</td>\n",
       "      <td>3431.0</td>\n",
       "      <td>Sí</td>\n",
       "      <td>Servicios al cliente</td>\n",
       "    </tr>\n",
       "  </tbody>\n",
       "</table>\n",
       "</div>"
      ],
      "text/plain": [
       "      Nombre  Apellido       Sexo Estado_Civil  Edad  Experiencia  Salario  \\\n",
       "0  Alexandro       NaN  Masculino   Soltero(a)  22.0          3.0   2423.0   \n",
       "1     Carlos       NaN  Masculino    Casado(a)  38.0         10.0   3132.0   \n",
       "2     Felipa       NaN   Femenino   Soltero(a)  26.0          5.0   2639.0   \n",
       "3     Daniel       NaN  Masculino    Casado(a)  35.0         10.0   3122.0   \n",
       "4       John       NaN  Masculino    Casado(a)  35.0         13.0   3431.0   \n",
       "\n",
       "  Gerencia          Departamento  \n",
       "0       No            Publicidad  \n",
       "1       Sí                   NaN  \n",
       "2       No             Comercial  \n",
       "3       No             Comercial  \n",
       "4       Sí  Servicios al cliente  "
      ]
     },
     "execution_count": 17,
     "metadata": {},
     "output_type": "execute_result"
    }
   ],
   "source": [
    "df.head() # Mostramos los primeros cinco casos"
   ]
  },
  {
   "cell_type": "code",
   "execution_count": 18,
   "id": "1fc5f99a-3989-48f2-a196-fed47abb6ceb",
   "metadata": {},
   "outputs": [
    {
     "data": {
      "text/plain": [
       "(251, 9)"
      ]
     },
     "execution_count": 18,
     "metadata": {},
     "output_type": "execute_result"
    }
   ],
   "source": [
    "df.shape # Recuento de las rows y columnas respectivamente"
   ]
  },
  {
   "cell_type": "code",
   "execution_count": 19,
   "id": "8204de2a-1a1f-4250-914a-61ec361f63d7",
   "metadata": {},
   "outputs": [
    {
     "data": {
      "text/plain": [
       "Nombre            6\n",
       "Apellido        251\n",
       "Sexo             37\n",
       "Estado_Civil      4\n",
       "Edad             61\n",
       "Experiencia       4\n",
       "Salario           6\n",
       "Gerencia         21\n",
       "Departamento     12\n",
       "dtype: int64"
      ]
     },
     "execution_count": 19,
     "metadata": {},
     "output_type": "execute_result"
    }
   ],
   "source": [
    "df.isnull().sum() # Valores NaN o None en las respectiva columnas. La función '.sum()' suma los casos"
   ]
  },
  {
   "cell_type": "code",
   "execution_count": 20,
   "id": "7690475e-0a04-4227-a44f-5cedd7eb5df2",
   "metadata": {},
   "outputs": [
    {
     "data": {
      "text/plain": [
       "Nombre          245\n",
       "Apellido          0\n",
       "Sexo            214\n",
       "Estado_Civil    247\n",
       "Edad            190\n",
       "Experiencia     247\n",
       "Salario         245\n",
       "Gerencia        230\n",
       "Departamento    239\n",
       "dtype: int64"
      ]
     },
     "execution_count": 20,
     "metadata": {},
     "output_type": "execute_result"
    }
   ],
   "source": [
    "df.notnull().sum()  # Valores en las respectiva columnas. La función '.sum()' suma los casos"
   ]
  },
  {
   "cell_type": "code",
   "execution_count": 28,
   "id": "cb20ed93-ff75-4cec-84e6-e63592d7b915",
   "metadata": {},
   "outputs": [
    {
     "data": {
      "text/html": [
       "<div>\n",
       "<style scoped>\n",
       "    .dataframe tbody tr th:only-of-type {\n",
       "        vertical-align: middle;\n",
       "    }\n",
       "\n",
       "    .dataframe tbody tr th {\n",
       "        vertical-align: top;\n",
       "    }\n",
       "\n",
       "    .dataframe thead th {\n",
       "        text-align: right;\n",
       "    }\n",
       "</style>\n",
       "<table border=\"1\" class=\"dataframe\">\n",
       "  <thead>\n",
       "    <tr style=\"text-align: right;\">\n",
       "      <th></th>\n",
       "      <th>Nombre</th>\n",
       "      <th>Apellido</th>\n",
       "      <th>Sexo</th>\n",
       "      <th>Estado_Civil</th>\n",
       "      <th>Edad</th>\n",
       "      <th>Experiencia</th>\n",
       "      <th>Salario</th>\n",
       "      <th>Gerencia</th>\n",
       "      <th>Departamento</th>\n",
       "    </tr>\n",
       "  </thead>\n",
       "  <tbody>\n",
       "    <tr>\n",
       "      <th>0</th>\n",
       "      <td>Alexandro</td>\n",
       "      <td>NaN</td>\n",
       "      <td>Masculino</td>\n",
       "      <td>Soltero(a)</td>\n",
       "      <td>22.0</td>\n",
       "      <td>3.0</td>\n",
       "      <td>2423.0</td>\n",
       "      <td>No</td>\n",
       "      <td>Publicidad</td>\n",
       "    </tr>\n",
       "    <tr>\n",
       "      <th>1</th>\n",
       "      <td>Carlos</td>\n",
       "      <td>NaN</td>\n",
       "      <td>Masculino</td>\n",
       "      <td>Casado(a)</td>\n",
       "      <td>38.0</td>\n",
       "      <td>10.0</td>\n",
       "      <td>3132.0</td>\n",
       "      <td>Sí</td>\n",
       "      <td>NaN</td>\n",
       "    </tr>\n",
       "    <tr>\n",
       "      <th>2</th>\n",
       "      <td>Felipa</td>\n",
       "      <td>NaN</td>\n",
       "      <td>Femenino</td>\n",
       "      <td>Soltero(a)</td>\n",
       "      <td>26.0</td>\n",
       "      <td>5.0</td>\n",
       "      <td>2639.0</td>\n",
       "      <td>No</td>\n",
       "      <td>Comercial</td>\n",
       "    </tr>\n",
       "    <tr>\n",
       "      <th>3</th>\n",
       "      <td>Daniel</td>\n",
       "      <td>NaN</td>\n",
       "      <td>Masculino</td>\n",
       "      <td>Casado(a)</td>\n",
       "      <td>35.0</td>\n",
       "      <td>10.0</td>\n",
       "      <td>3122.0</td>\n",
       "      <td>No</td>\n",
       "      <td>Comercial</td>\n",
       "    </tr>\n",
       "    <tr>\n",
       "      <th>4</th>\n",
       "      <td>John</td>\n",
       "      <td>NaN</td>\n",
       "      <td>Masculino</td>\n",
       "      <td>Casado(a)</td>\n",
       "      <td>35.0</td>\n",
       "      <td>13.0</td>\n",
       "      <td>3431.0</td>\n",
       "      <td>Sí</td>\n",
       "      <td>Servicios al cliente</td>\n",
       "    </tr>\n",
       "  </tbody>\n",
       "</table>\n",
       "</div>"
      ],
      "text/plain": [
       "      Nombre  Apellido       Sexo Estado_Civil  Edad  Experiencia  Salario  \\\n",
       "0  Alexandro       NaN  Masculino   Soltero(a)  22.0          3.0   2423.0   \n",
       "1     Carlos       NaN  Masculino    Casado(a)  38.0         10.0   3132.0   \n",
       "2     Felipa       NaN   Femenino   Soltero(a)  26.0          5.0   2639.0   \n",
       "3     Daniel       NaN  Masculino    Casado(a)  35.0         10.0   3122.0   \n",
       "4       John       NaN  Masculino    Casado(a)  35.0         13.0   3431.0   \n",
       "\n",
       "  Gerencia          Departamento  \n",
       "0       No            Publicidad  \n",
       "1       Sí                   NaN  \n",
       "2       No             Comercial  \n",
       "3       No             Comercial  \n",
       "4       Sí  Servicios al cliente  "
      ]
     },
     "execution_count": 28,
     "metadata": {},
     "output_type": "execute_result"
    }
   ],
   "source": [
    "df.head()"
   ]
  },
  {
   "cell_type": "code",
   "execution_count": null,
   "id": "7129f070-0258-4599-8d5a-ad4de4e65df8",
   "metadata": {},
   "outputs": [],
   "source": []
  },
  {
   "cell_type": "code",
   "execution_count": null,
   "id": "190cf33a-fa16-4b04-8c99-a40f3c7a0c8e",
   "metadata": {},
   "outputs": [],
   "source": []
  },
  {
   "cell_type": "code",
   "execution_count": null,
   "id": "5e1c6742-97c8-443f-a158-b72b31ab44a6",
   "metadata": {},
   "outputs": [],
   "source": []
  }
 ],
 "metadata": {
  "kernelspec": {
   "display_name": "Python 3 (ipykernel)",
   "language": "python",
   "name": "python3"
  },
  "language_info": {
   "codemirror_mode": {
    "name": "ipython",
    "version": 3
   },
   "file_extension": ".py",
   "mimetype": "text/x-python",
   "name": "python",
   "nbconvert_exporter": "python",
   "pygments_lexer": "ipython3",
   "version": "3.11.4"
  }
 },
 "nbformat": 4,
 "nbformat_minor": 5
}
