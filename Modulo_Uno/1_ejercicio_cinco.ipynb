{
 "cells": [
  {
   "cell_type": "code",
   "execution_count": 1,
   "id": "c9b3ec2d-5bf0-43d7-b11c-a1e8b6711f59",
   "metadata": {},
   "outputs": [],
   "source": [
    "import pandas as pd"
   ]
  },
  {
   "cell_type": "code",
   "execution_count": 2,
   "id": "459356b6-633d-46b7-9acc-9a4383ed5f9c",
   "metadata": {},
   "outputs": [],
   "source": [
    "df = pd.read_csv('D:/Descargas/empleados.csv', delimiter=';')"
   ]
  },
  {
   "cell_type": "code",
   "execution_count": 3,
   "id": "bd855dd2-2088-48ac-b08d-2ba6fec0e77a",
   "metadata": {},
   "outputs": [],
   "source": [
    "df = df.drop('Apellido', axis=1)"
   ]
  },
  {
   "cell_type": "code",
   "execution_count": 5,
   "id": "00b91334-f218-40c6-8f1a-b8853718dabd",
   "metadata": {},
   "outputs": [],
   "source": [
    "df = df.drop_duplicates()"
   ]
  },
  {
   "cell_type": "code",
   "execution_count": 17,
   "id": "5c6bae2c-7ed5-4f30-b6ce-02f528ddb376",
   "metadata": {},
   "outputs": [
    {
     "name": "stdout",
     "output_type": "stream",
     "text": [
      "Nombre           6\n",
      "Sexo            37\n",
      "Estado_Civil     4\n",
      "Edad             0\n",
      "Experiencia      4\n",
      "Salario          6\n",
      "Gerencia        21\n",
      "Departamento    12\n",
      "dtype: int64\n"
     ]
    }
   ],
   "source": [
    "print(df.isnull().sum())"
   ]
  },
  {
   "cell_type": "code",
   "execution_count": 14,
   "id": "86205771-93c7-4930-b99d-55e80a8f84fc",
   "metadata": {},
   "outputs": [],
   "source": [
    "df['Edad'] = df['Edad'].fillna(df['Edad'].mean())"
   ]
  },
  {
   "cell_type": "code",
   "execution_count": 18,
   "id": "7e75a625-367c-4c7a-84d2-984915bc2a65",
   "metadata": {},
   "outputs": [],
   "source": [
    "df = df.dropna(axis=0)"
   ]
  },
  {
   "cell_type": "code",
   "execution_count": 20,
   "id": "6370cc95-2a21-4727-b07e-ecc0351b8bf3",
   "metadata": {},
   "outputs": [
    {
     "data": {
      "text/plain": [
       "(189, 8)"
      ]
     },
     "execution_count": 20,
     "metadata": {},
     "output_type": "execute_result"
    }
   ],
   "source": [
    "df.shape"
   ]
  },
  {
   "cell_type": "code",
   "execution_count": 21,
   "id": "4ee7a618-4648-4693-bc2f-f2abd2cba85c",
   "metadata": {},
   "outputs": [
    {
     "name": "stdout",
     "output_type": "stream",
     "text": [
      "Nombre          0\n",
      "Sexo            0\n",
      "Estado_Civil    0\n",
      "Edad            0\n",
      "Experiencia     0\n",
      "Salario         0\n",
      "Gerencia        0\n",
      "Departamento    0\n",
      "dtype: int64\n"
     ]
    }
   ],
   "source": [
    "print(df.isnull().sum())"
   ]
  },
  {
   "cell_type": "code",
   "execution_count": null,
   "id": "cafd13a6-3bfd-4401-9dc2-ab6326ef7b59",
   "metadata": {},
   "outputs": [],
   "source": []
  }
 ],
 "metadata": {
  "kernelspec": {
   "display_name": "Python 3 (ipykernel)",
   "language": "python",
   "name": "python3"
  },
  "language_info": {
   "codemirror_mode": {
    "name": "ipython",
    "version": 3
   },
   "file_extension": ".py",
   "mimetype": "text/x-python",
   "name": "python",
   "nbconvert_exporter": "python",
   "pygments_lexer": "ipython3",
   "version": "3.11.4"
  }
 },
 "nbformat": 4,
 "nbformat_minor": 5
}
