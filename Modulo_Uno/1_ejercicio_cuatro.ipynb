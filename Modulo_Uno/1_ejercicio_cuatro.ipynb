{
 "cells": [
  {
   "cell_type": "code",
   "execution_count": 1,
   "id": "45e18ad5-80ad-41ff-a14c-498a0d0e6dd7",
   "metadata": {},
   "outputs": [],
   "source": [
    "import pandas as pd"
   ]
  },
  {
   "cell_type": "code",
   "execution_count": 2,
   "id": "7d710d38-a521-40d9-9f5a-d21d1f7d9ff9",
   "metadata": {},
   "outputs": [],
   "source": [
    "df = pd.read_csv('D:/Descargas/empleados.csv', delimiter = ';')"
   ]
  },
  {
   "cell_type": "code",
   "execution_count": 3,
   "id": "ff816e74-9ed3-47ed-b877-48bc8bb326f6",
   "metadata": {},
   "outputs": [],
   "source": [
    "df = df.drop(['Apellido'], axis = 1) # Vuelvo a soltar la columna 'Apellido' (El axis=1 hace referencias a las columnas)"
   ]
  },
  {
   "cell_type": "code",
   "execution_count": 6,
   "id": "f2c2aaa9-444b-4685-aab6-7f138edf8fa4",
   "metadata": {},
   "outputs": [],
   "source": [
    "df_act = df.dropna(axis=0) # Limpio el DataFrame de las filas que contengan AL MENOS un valor nulo"
   ]
  },
  {
   "cell_type": "code",
   "execution_count": 17,
   "id": "df39904e-577b-4717-a293-ae9c65aa22ec",
   "metadata": {},
   "outputs": [],
   "source": [
    "filas_dup_act = df_act[df_act.duplicated()] # Asigno un nuevo DF y muestro qué valores son los duplicados"
   ]
  },
  {
   "cell_type": "code",
   "execution_count": 19,
   "id": "e3cbec5c-76fa-47c5-8556-2a2d67a41647",
   "metadata": {},
   "outputs": [
    {
     "data": {
      "text/html": [
       "<div>\n",
       "<style scoped>\n",
       "    .dataframe tbody tr th:only-of-type {\n",
       "        vertical-align: middle;\n",
       "    }\n",
       "\n",
       "    .dataframe tbody tr th {\n",
       "        vertical-align: top;\n",
       "    }\n",
       "\n",
       "    .dataframe thead th {\n",
       "        text-align: right;\n",
       "    }\n",
       "</style>\n",
       "<table border=\"1\" class=\"dataframe\">\n",
       "  <thead>\n",
       "    <tr style=\"text-align: right;\">\n",
       "      <th></th>\n",
       "      <th>Nombre</th>\n",
       "      <th>Sexo</th>\n",
       "      <th>Estado_Civil</th>\n",
       "      <th>Edad</th>\n",
       "      <th>Experiencia</th>\n",
       "      <th>Salario</th>\n",
       "      <th>Gerencia</th>\n",
       "      <th>Departamento</th>\n",
       "    </tr>\n",
       "  </thead>\n",
       "  <tbody>\n",
       "    <tr>\n",
       "      <th>14</th>\n",
       "      <td>Selena</td>\n",
       "      <td>Femenino</td>\n",
       "      <td>Casado(a)</td>\n",
       "      <td>24.0</td>\n",
       "      <td>6.0</td>\n",
       "      <td>2709.0</td>\n",
       "      <td>Sí</td>\n",
       "      <td>Contabilidad</td>\n",
       "    </tr>\n",
       "    <tr>\n",
       "      <th>65</th>\n",
       "      <td>Lucio</td>\n",
       "      <td>Masculino</td>\n",
       "      <td>Soltero(a)</td>\n",
       "      <td>54.0</td>\n",
       "      <td>12.0</td>\n",
       "      <td>3317.0</td>\n",
       "      <td>No</td>\n",
       "      <td>Recursos Humanos</td>\n",
       "    </tr>\n",
       "  </tbody>\n",
       "</table>\n",
       "</div>"
      ],
      "text/plain": [
       "    Nombre       Sexo Estado_Civil  Edad  Experiencia  Salario Gerencia  \\\n",
       "14  Selena   Femenino    Casado(a)  24.0          6.0   2709.0       Sí   \n",
       "65   Lucio  Masculino   Soltero(a)  54.0         12.0   3317.0       No   \n",
       "\n",
       "        Departamento  \n",
       "14      Contabilidad  \n",
       "65  Recursos Humanos  "
      ]
     },
     "execution_count": 19,
     "metadata": {},
     "output_type": "execute_result"
    }
   ],
   "source": [
    "filas_dup_act"
   ]
  },
  {
   "cell_type": "code",
   "execution_count": 22,
   "id": "496bf154-4714-4626-ae44-dfea384ff148",
   "metadata": {},
   "outputs": [],
   "source": [
    "df_act = df_act.drop_duplicates() # Limpio el DataFrame de los valores duplicados"
   ]
  },
  {
   "cell_type": "code",
   "execution_count": 25,
   "id": "87a686d0-192f-4ffb-b0e0-d3ba066d5ee7",
   "metadata": {},
   "outputs": [
    {
     "data": {
      "text/plain": [
       "(143, 8)"
      ]
     },
     "execution_count": 25,
     "metadata": {},
     "output_type": "execute_result"
    }
   ],
   "source": [
    "df_act.shape # Recuento de las rows y columnas respectivamente"
   ]
  }
 ],
 "metadata": {
  "kernelspec": {
   "display_name": "Python 3 (ipykernel)",
   "language": "python",
   "name": "python3"
  },
  "language_info": {
   "codemirror_mode": {
    "name": "ipython",
    "version": 3
   },
   "file_extension": ".py",
   "mimetype": "text/x-python",
   "name": "python",
   "nbconvert_exporter": "python",
   "pygments_lexer": "ipython3",
   "version": "3.11.4"
  }
 },
 "nbformat": 4,
 "nbformat_minor": 5
}
