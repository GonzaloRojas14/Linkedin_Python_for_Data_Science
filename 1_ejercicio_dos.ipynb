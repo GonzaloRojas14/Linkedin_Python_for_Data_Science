{
 "cells": [
  {
   "cell_type": "code",
   "execution_count": 1,
   "id": "6fe0acf4-7184-4de8-96dc-e27b1465c1a5",
   "metadata": {},
   "outputs": [],
   "source": [
    "import pandas as pd"
   ]
  },
  {
   "cell_type": "code",
   "execution_count": 2,
   "id": "31b200c2-7156-47ec-9cab-531b5281fb6e",
   "metadata": {},
   "outputs": [],
   "source": [
    "df = pd.read_csv('D:/Descargas/empleados.csv', delimiter = \";\") # Esta linea carga al df (DataFrame) el archivo .csv y lo delimita mediante los ';'.\n",
    "# Se debe cambiar la ruta especificada."
   ]
  },
  {
   "cell_type": "code",
   "execution_count": 3,
   "id": "86ab8557-5ed4-4042-a6ed-43d37598e43d",
   "metadata": {},
   "outputs": [],
   "source": [
    "pd.set_option('display.max_columns', None) # Estos ajusten sacan los limites de la muestra de los datos tanto de las rows como de las columnas\n",
    "pd.set_option('display.max_rows', None)    # Para que el DataFrame se muestre sin truncamiento."
   ]
  },
  {
   "cell_type": "code",
   "execution_count": null,
   "id": "d8ed82f2-562f-4c6f-8d3d-b0a6922437ae",
   "metadata": {},
   "outputs": [],
   "source": [
    "df = df.drop('Apellido', axis=1) # Sobreescribo el DataFrame, actualizandolo quitando la columna 'Apellido' con el metodo .drop \n",
    "                                 # ya que solo contiene NaNs (Se debería crear otro df, no el mismo). "
   ]
  },
  {
   "cell_type": "code",
   "execution_count": 25,
   "id": "fe247268-5fe9-4213-9f44-75c502598dfc",
   "metadata": {},
   "outputs": [
    {
     "data": {
      "text/html": [
       "<div>\n",
       "<style scoped>\n",
       "    .dataframe tbody tr th:only-of-type {\n",
       "        vertical-align: middle;\n",
       "    }\n",
       "\n",
       "    .dataframe tbody tr th {\n",
       "        vertical-align: top;\n",
       "    }\n",
       "\n",
       "    .dataframe thead th {\n",
       "        text-align: right;\n",
       "    }\n",
       "</style>\n",
       "<table border=\"1\" class=\"dataframe\">\n",
       "  <thead>\n",
       "    <tr style=\"text-align: right;\">\n",
       "      <th></th>\n",
       "      <th>Nombre</th>\n",
       "      <th>Sexo</th>\n",
       "      <th>Estado_Civil</th>\n",
       "      <th>Edad</th>\n",
       "      <th>Experiencia</th>\n",
       "      <th>Salario</th>\n",
       "      <th>Gerencia</th>\n",
       "      <th>Departamento</th>\n",
       "    </tr>\n",
       "  </thead>\n",
       "  <tbody>\n",
       "    <tr>\n",
       "      <th>0</th>\n",
       "      <td>Alexandro</td>\n",
       "      <td>Masculino</td>\n",
       "      <td>Soltero(a)</td>\n",
       "      <td>22.0</td>\n",
       "      <td>3.0</td>\n",
       "      <td>2423.0</td>\n",
       "      <td>No</td>\n",
       "      <td>Publicidad</td>\n",
       "    </tr>\n",
       "    <tr>\n",
       "      <th>1</th>\n",
       "      <td>Carlos</td>\n",
       "      <td>Masculino</td>\n",
       "      <td>Casado(a)</td>\n",
       "      <td>38.0</td>\n",
       "      <td>10.0</td>\n",
       "      <td>3132.0</td>\n",
       "      <td>Sí</td>\n",
       "      <td>NaN</td>\n",
       "    </tr>\n",
       "    <tr>\n",
       "      <th>2</th>\n",
       "      <td>Felipa</td>\n",
       "      <td>Femenino</td>\n",
       "      <td>Soltero(a)</td>\n",
       "      <td>26.0</td>\n",
       "      <td>5.0</td>\n",
       "      <td>2639.0</td>\n",
       "      <td>No</td>\n",
       "      <td>Comercial</td>\n",
       "    </tr>\n",
       "    <tr>\n",
       "      <th>3</th>\n",
       "      <td>Daniel</td>\n",
       "      <td>Masculino</td>\n",
       "      <td>Casado(a)</td>\n",
       "      <td>35.0</td>\n",
       "      <td>10.0</td>\n",
       "      <td>3122.0</td>\n",
       "      <td>No</td>\n",
       "      <td>Comercial</td>\n",
       "    </tr>\n",
       "    <tr>\n",
       "      <th>4</th>\n",
       "      <td>John</td>\n",
       "      <td>Masculino</td>\n",
       "      <td>Casado(a)</td>\n",
       "      <td>35.0</td>\n",
       "      <td>13.0</td>\n",
       "      <td>3431.0</td>\n",
       "      <td>Sí</td>\n",
       "      <td>Servicios al cliente</td>\n",
       "    </tr>\n",
       "  </tbody>\n",
       "</table>\n",
       "</div>"
      ],
      "text/plain": [
       "      Nombre       Sexo Estado_Civil  Edad  Experiencia  Salario Gerencia  \\\n",
       "0  Alexandro  Masculino   Soltero(a)  22.0          3.0   2423.0       No   \n",
       "1     Carlos  Masculino    Casado(a)  38.0         10.0   3132.0       Sí   \n",
       "2     Felipa   Femenino   Soltero(a)  26.0          5.0   2639.0       No   \n",
       "3     Daniel  Masculino    Casado(a)  35.0         10.0   3122.0       No   \n",
       "4       John  Masculino    Casado(a)  35.0         13.0   3431.0       Sí   \n",
       "\n",
       "           Departamento  \n",
       "0            Publicidad  \n",
       "1                   NaN  \n",
       "2             Comercial  \n",
       "3             Comercial  \n",
       "4  Servicios al cliente  "
      ]
     },
     "execution_count": 25,
     "metadata": {},
     "output_type": "execute_result"
    }
   ],
   "source": [
    "df.head() # Cinco primeros valores sin la columna 'Apellidos'"
   ]
  },
  {
   "cell_type": "code",
   "execution_count": null,
   "id": "4dd52ee7-6d49-4181-8cdc-a8695ab287f6",
   "metadata": {},
   "outputs": [],
   "source": []
  }
 ],
 "metadata": {
  "kernelspec": {
   "display_name": "Python 3 (ipykernel)",
   "language": "python",
   "name": "python3"
  },
  "language_info": {
   "codemirror_mode": {
    "name": "ipython",
    "version": 3
   },
   "file_extension": ".py",
   "mimetype": "text/x-python",
   "name": "python",
   "nbconvert_exporter": "python",
   "pygments_lexer": "ipython3",
   "version": "3.11.4"
  }
 },
 "nbformat": 4,
 "nbformat_minor": 5
}
